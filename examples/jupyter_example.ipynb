{
 "cells": [
  {
   "cell_type": "code",
   "execution_count": null,
   "metadata": {
    "collapsed": false
   },
   "outputs": [],
   "source": [
    "import json\n",
    "import psqlgraph\n",
    "import os\n",
    "\n",
    "from graphviz import Digraph\n",
    "from IPython.display import SVG, display\n",
    "from gdcdatamodel.models import *\n",
    "from gdcdatamodel.models.versioned_nodes import VersionedNode\n",
    "from psqlgraph import *\n",
    "from sqlalchemy import *\n",
    "\n",
    "HOST = os.environ.get('PG_HOST')\n",
    "USER = os.environ.get('PG_USER')\n",
    "DATABASE = os.environ.get('PG_DATABASE')\n",
    "PASSWORD = os.environ.get('PG_PASSWORD')\n",
    "\n",
    "# PG_USER= PG_HOST= PG_DATABASE= PG_PASSWORD=   jupyter notebook\n",
    "\n",
    "\n",
    "def visualize(nodes):\n",
    "    dot = Digraph()\n",
    "    dot.graph_attr['rankdir'] = 'RL'\n",
    "\n",
    "    edges_added = set()\n",
    "    nodes = {node.node_id: node for node in nodes}\n",
    "    \n",
    "    print('Graphing {} nodes.'.format(len(nodes)))\n",
    "\n",
    "    for node in nodes.values():\n",
    "\n",
    "        label = '{}({})'.format(node.__class__.__name__, node.node_id[:8])\n",
    "        dot.node(node.node_id, label)\n",
    "\n",
    "        for edge in node.edges_out:\n",
    "            if  edge not in edges_added and edge.dst_id in nodes:\n",
    "                dot.edge(edge.src_id, edge.dst_id)\n",
    "                edges_added.add(edge)\n",
    "                \n",
    "        for edge in node.edges_in:\n",
    "            if edge not in edges_added and edge.src_id in nodes:\n",
    "                dot.edge(edge.src_id, edge.dst_id)\n",
    "                edges_added.add(edge)\n",
    "\n",
    "    display(dot)\n",
    "    \n",
    "    print(json.dumps({str(node): node.props for node in nodes.values()}, indent=2))\n",
    "\n",
    "g = psqlgraph.PsqlGraphDriver(HOST, USER, PASSWORD, DATABASE)\n",
    "print('Ready!')"
   ]
  },
  {
   "cell_type": "code",
   "execution_count": null,
   "metadata": {
    "collapsed": false,
    "scrolled": false
   },
   "outputs": [],
   "source": [
    "with g.session_scope():\n",
    "    cases = g.nodes(Case).subq_path('samples').limit(1).all()\n",
    "    case_neighbors = [edge.src for case in cases for edge in case.edges_in]\n",
    "    samples = [sample for case in cases for sample in case.samples]\n",
    "    portions = [portion for sample in samples for portion in sample.portions]\n",
    "    analytes = [analyte for portion in portions for analyte in portion.analytes]\n",
    "    aliquots = [aliquot for analyte in analytes for aliquot in analyte.aliquots]\n",
    "    nodes = cases + case_neighbors + samples + portions + analytes + aliquots\n",
    "    visualize(nodes)"
   ]
  }
 ],
 "metadata": {
  "kernelspec": {
   "display_name": "Python 2",
   "language": "python",
   "name": "python2"
  },
  "language_info": {
   "codemirror_mode": {
    "name": "ipython",
    "version": 2
   },
   "file_extension": ".py",
   "mimetype": "text/x-python",
   "name": "python",
   "nbconvert_exporter": "python",
   "pygments_lexer": "ipython2",
   "version": "2.7.10"
  }
 },
 "nbformat": 4,
 "nbformat_minor": 0
}
